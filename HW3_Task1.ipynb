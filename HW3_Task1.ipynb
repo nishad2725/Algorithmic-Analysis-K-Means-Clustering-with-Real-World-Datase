{
  "nbformat": 4,
  "nbformat_minor": 0,
  "metadata": {
    "colab": {
      "provenance": []
    },
    "kernelspec": {
      "name": "python3",
      "display_name": "Python 3"
    },
    "language_info": {
      "name": "python"
    }
  },
  "cells": [
    {
      "cell_type": "code",
      "execution_count": 27,
      "metadata": {
        "id": "HCN9A8eJhlmW"
      },
      "outputs": [],
      "source": [
        "import numpy as np\n",
        "from scipy.spatial.distance import cdist\n",
        "from scipy.spatial.distance import cosine\n",
        "import pandas as pd\n",
        "from copy import deepcopy\n"
      ]
    },
    {
      "cell_type": "code",
      "source": [
        "def euclidean_distance(X, Y):\n",
        "    \"\"\"\n",
        "    Compute the Euclidean distance between each pair of the two collections of inputs.\n",
        "    \"\"\"\n",
        "    return cdist(X, Y, 'euclidean')"
      ],
      "metadata": {
        "id": "meGIvxRFhnVB"
      },
      "execution_count": 28,
      "outputs": []
    },
    {
      "cell_type": "code",
      "source": [
        "def cosine_similarity_distance(X, Y):\n",
        "    \"\"\"\n",
        "    Compute 1 - Cosine similarity distance between each pair of the two collections of inputs.\n",
        "    \"\"\"\n",
        "    return 1 - cdist(X, Y, 'cosine')"
      ],
      "metadata": {
        "id": "3LIRmBKEhnYl"
      },
      "execution_count": 29,
      "outputs": []
    },
    {
      "cell_type": "code",
      "source": [
        "def generalized_jaccard_similarity(X, Y):\n",
        "    \"\"\"\n",
        "    Compute 1 - Generalized Jaccard similarity between each pair of the two collections of inputs.\n",
        "    \"\"\"\n",
        "    min_intersection = np.minimum(X[:, np.newaxis], Y)\n",
        "    max_union = np.maximum(X[:, np.newaxis], Y)\n",
        "    return 1 - np.sum(min_intersection, axis=2) / np.sum(max_union, axis=2)"
      ],
      "metadata": {
        "id": "GvfMeoFQhnbu"
      },
      "execution_count": 30,
      "outputs": []
    },
    {
      "cell_type": "code",
      "source": [
        "\n",
        "def kmeans(X, k, distance_function, max_iters=100):\n",
        "    \"\"\"\n",
        "    K-means clustering algorithm.\n",
        "\n",
        "    Parameters:\n",
        "    X: numpy array of data points.\n",
        "    k: number of clusters.\n",
        "    distance_function: function to compute the distance.\n",
        "    max_iters: maximum number of iterations.\n",
        "\n",
        "    Returns:\n",
        "    centroids: final centroids.\n",
        "    labels: cluster labels for each data point.\n",
        "    \"\"\"\n",
        "    n_samples, _ = X.shape\n",
        "\n",
        "    # Randomly choosing Centroids\n",
        "    random_indices = np.random.choice(n_samples, size=k, replace=False)\n",
        "    centroids = X[random_indices]\n",
        "\n",
        "    # To store the value of centroids when it updates\n",
        "    centroids_old = np.zeros(centroids.shape)\n",
        "\n",
        "    # Cluster Lables(0, 1, 2, ...)\n",
        "    labels = np.zeros(n_samples)\n",
        "\n",
        "    # Distance between new centroids and old centroids\n",
        "    error = np.linalg.norm(centroids - centroids_old)\n",
        "\n",
        "    # Loop will run till the error becomes zero\n",
        "    iteration = 0\n",
        "    while error != 0 and iteration < max_iters:\n",
        "        # Assigning each value to its closest cluster\n",
        "        distances = distance_function(X, centroids)\n",
        "        labels = np.argmin(distances, axis=1)\n",
        "\n",
        "        # Storing the old centroid values\n",
        "        centroids_old = deepcopy(centroids)\n",
        "\n",
        "        # Finding the new centroids by taking the average value\n",
        "        for i in range(k):\n",
        "            centroids[i] = np.mean(X[labels == i], axis=0)\n",
        "\n",
        "        error = np.linalg.norm(centroids - centroids_old)\n",
        "        iteration += 1\n",
        "\n",
        "    return centroids, labels"
      ],
      "metadata": {
        "id": "iAZD_E9Jhne2"
      },
      "execution_count": 31,
      "outputs": []
    },
    {
      "cell_type": "code",
      "source": [
        "# Function to calculate SSE\n",
        "def calculate_sse(X, labels, centroids, distance_function):\n",
        "    sse = 0\n",
        "    for i in range(len(centroids)):\n",
        "        cluster_points = X[labels == i]\n",
        "        distances = distance_function(cluster_points, [centroids[i]])\n",
        "        sse += np.sum(distances**2)\n",
        "    return sse"
      ],
      "metadata": {
        "id": "FC7rduA06Q3s"
      },
      "execution_count": 32,
      "outputs": []
    },
    {
      "cell_type": "code",
      "source": [
        "# Load the data from the CSV files\n",
        "data_path = '/content/data.csv'\n",
        "label_path = '/content/label.csv'\n",
        "\n",
        "# Reading the data\n",
        "data_df = pd.read_csv(data_path)\n",
        "label_df = pd.read_csv(label_path)\n",
        "\n",
        "# Convert DataFrame to NumPy array if needed for model processing\n",
        "data = data_df.to_numpy()\n",
        "labels = label_df.to_numpy().flatten()  # Flatten if labels are in a single column"
      ],
      "metadata": {
        "id": "iumZVzYSiM7P"
      },
      "execution_count": 33,
      "outputs": []
    },
    {
      "cell_type": "code",
      "source": [
        "# Number of clusters\n",
        "X = data_df.to_numpy()\n",
        "k = 10\n",
        "\n",
        "# Using Euclidean Distance\n",
        "centroids_euclidean, labels_euclidean = kmeans(data, k, euclidean_distance)\n",
        "\n",
        "# Using 1 - Cosine Similarity\n",
        "centroids_cosine, labels_cosine = kmeans(data, k, cosine_similarity_distance)\n",
        "\n",
        "# Using 1 - Generalized Jaccard Similarity\n",
        "centroids_jaccard, labels_jaccard = kmeans(data, k, generalized_jaccard_similarity)\n",
        "\n",
        "# Example of how to use the labels or centroids for analysis\n",
        "# (your specific analysis will depend on what you're trying to achieve)\n",
        "print(labels_euclidean[:10])  # First 10 labels using Euclidean distance\n",
        "print(labels_cosine[:10])     # First 10 labels using 1 - Cosine similarity\n",
        "print(labels_jaccard[:10])    # First 10 labels using 1 - Generalized Jaccard similarity"
      ],
      "metadata": {
        "colab": {
          "base_uri": "https://localhost:8080/"
        },
        "id": "S87-MVZMhnhe",
        "outputId": "49932b57-0644-4b79-a587-bc32be3e293a"
      },
      "execution_count": 34,
      "outputs": [
        {
          "output_type": "stream",
          "name": "stderr",
          "text": [
            "/usr/local/lib/python3.10/dist-packages/numpy/core/fromnumeric.py:3432: RuntimeWarning: Mean of empty slice.\n",
            "  return _methods._mean(a, axis=axis, dtype=dtype,\n",
            "/usr/local/lib/python3.10/dist-packages/numpy/core/_methods.py:182: RuntimeWarning: invalid value encountered in divide\n",
            "  ret = um.true_divide(\n"
          ]
        },
        {
          "output_type": "stream",
          "name": "stdout",
          "text": [
            "[0 5 9 7 5 1 7 7 1 9]\n",
            "[1 1 1 1 1 1 1 1 1 1]\n",
            "[2 7 1 9 7 4 4 9 0 1]\n"
          ]
        }
      ]
    },
    {
      "cell_type": "markdown",
      "source": [
        "Q1: SSEs of Euclidean-K-means, Cosine-K-means, Jarcard-K-means.\n"
      ],
      "metadata": {
        "id": "mdzAgKAyFZtO"
      }
    },
    {
      "cell_type": "code",
      "source": [
        "\n",
        "sse_euclidean = calculate_sse(data, labels_euclidean, centroids_euclidean, euclidean_distance)\n",
        "sse_cosine = calculate_sse(data, labels_cosine, centroids_cosine, cosine_similarity_distance)\n",
        "sse_jaccard = calculate_sse(data, labels_jaccard, centroids_jaccard, generalized_jaccard_similarity)\n",
        "\n",
        "print(\"SSE Euclidean is:\", sse_euclidean)\n",
        "print(\"SSE Cosine is:\", sse_cosine)\n",
        "print(\"SSE Jaccard is:\", sse_jaccard)"
      ],
      "metadata": {
        "id": "DFs89OylhnkD",
        "colab": {
          "base_uri": "https://localhost:8080/"
        },
        "outputId": "38efad6c-5b57-424a-c1f8-6feee308941c"
      },
      "execution_count": 35,
      "outputs": [
        {
          "output_type": "stream",
          "name": "stdout",
          "text": [
            "SSE Euclidean is: 25324531037.0\n",
            "SSE Cosine is: 4156.594182164835\n",
            "SSE Jaccard is: 3714.9130074029495\n"
          ]
        }
      ]
    },
    {
      "cell_type": "markdown",
      "source": [
        "Q2: Comparing the accuracies of Euclidean-K-means Cosine-K-means, Jarcard-K-means. Computing the predictive accuracy of Euclidean-K-means, Cosine-K-means, Jarcard-K-means."
      ],
      "metadata": {
        "id": "T3_q3vsv8iix"
      }
    },
    {
      "cell_type": "code",
      "source": [
        "def label_clusters(labels, true_labels, k):\n",
        "    \"\"\"\n",
        "    Assigns a label to each cluster based on the majority vote of the true labels.\n",
        "    \"\"\"\n",
        "    cluster_labels = {}\n",
        "    for i in range(k):\n",
        "        # Find the most common true label in each cluster\n",
        "        labels_in_cluster = true_labels[labels == i]\n",
        "        if len(labels_in_cluster) == 0:\n",
        "            continue\n",
        "        most_common = np.bincount(labels_in_cluster).argmax()\n",
        "        cluster_labels[i] = most_common\n",
        "    return cluster_labels\n"
      ],
      "metadata": {
        "id": "8delikWZ8hrd"
      },
      "execution_count": 36,
      "outputs": []
    },
    {
      "cell_type": "code",
      "source": [
        "def compute_accuracy(labels, true_labels, cluster_labels):\n",
        "    \"\"\"\n",
        "    Computes the accuracy based on the assigned cluster labels.\n",
        "    \"\"\"\n",
        "    correct_predictions = 0\n",
        "    for label, true_label in zip(labels, true_labels):\n",
        "        if cluster_labels[label] == true_label:\n",
        "            correct_predictions += 1\n",
        "    return correct_predictions / len(true_labels)\n"
      ],
      "metadata": {
        "id": "1__UY01r8hz7"
      },
      "execution_count": 37,
      "outputs": []
    },
    {
      "cell_type": "code",
      "source": [
        "# Assuming 'data', 'labels', 'k' are already defined and the kmeans function has been run for Euclidean, Cosine, and Jaccard distances\n",
        "\n",
        "# Convert true labels to numeric form if they are not already\n",
        "true_labels_numeric = pd.factorize(labels)[0]\n",
        "\n",
        "# Label each cluster using majority vote for each distance measure\n",
        "cluster_labels_euclidean = label_clusters(labels_euclidean, true_labels_numeric, k)\n",
        "cluster_labels_cosine = label_clusters(labels_cosine, true_labels_numeric, k)\n",
        "cluster_labels_jaccard = label_clusters(labels_jaccard, true_labels_numeric, k)\n",
        "\n",
        "# Compute the predictive accuracy for each distance measure\n",
        "accuracy_euclidean = compute_accuracy(labels_euclidean, true_labels_numeric, cluster_labels_euclidean)\n",
        "accuracy_cosine = compute_accuracy(labels_cosine, true_labels_numeric, cluster_labels_cosine)\n",
        "accuracy_jaccard = compute_accuracy(labels_jaccard, true_labels_numeric, cluster_labels_jaccard)\n",
        "\n",
        "print(\"Accuracy Euclidean:\", accuracy_euclidean)\n",
        "print(\"Accuracy Cosine:\", accuracy_cosine)\n",
        "print(\"Accuracy Jaccard:\", accuracy_jaccard)"
      ],
      "metadata": {
        "colab": {
          "base_uri": "https://localhost:8080/"
        },
        "id": "TPMzbti98oos",
        "outputId": "a30de2a1-1fc8-40d5-b044-3f12be5eb3f3"
      },
      "execution_count": 38,
      "outputs": [
        {
          "output_type": "stream",
          "name": "stdout",
          "text": [
            "Accuracy Euclidean: 0.6074607460746074\n",
            "Accuracy Cosine: 0.11351135113511351\n",
            "Accuracy Jaccard: 0.6281628162816282\n"
          ]
        }
      ]
    },
    {
      "cell_type": "markdown",
      "source": [
        "Q3: Set up the same stop criteria: “when there is no change in centroid position OR when the SSE value increases in the next iteration OR when the maximum preset value (e.g., 500, you can set the preset value by yourself) of iteration is complete”, for Euclidean-K-means, Cosine-K-means, Jarcard-K-means.\n"
      ],
      "metadata": {
        "id": "FkJbfWUK-cok"
      }
    },
    {
      "cell_type": "code",
      "source": [
        "import time\n",
        "\n",
        "def kmeans_time(X, k, distance_function, max_iters=500):\n",
        "    n_samples, _ = X.shape\n",
        "    random_indices = np.random.choice(n_samples, size=k, replace=False)\n",
        "    centroids = X[random_indices]\n",
        "    centroids_old = np.zeros(centroids.shape)\n",
        "    labels = np.zeros(n_samples)\n",
        "    error = np.linalg.norm(centroids - centroids_old)\n",
        "    iteration = 0\n",
        "    sse_old = float('inf')\n",
        "\n",
        "    start_time = time.time()\n",
        "\n",
        "    while iteration < max_iters:\n",
        "        distances = distance_function(X, centroids)\n",
        "        labels = np.argmin(distances, axis=1)\n",
        "        centroids_old = deepcopy(centroids)\n",
        "        for i in range(k):\n",
        "            centroids[i] = np.mean(X[labels == i], axis=0)\n",
        "        error = np.linalg.norm(centroids - centroids_old)\n",
        "        sse_new = calculate_sse(X, labels, centroids, distance_function)\n",
        "\n",
        "        # Stopping criteria\n",
        "        if error == 0 or sse_new > sse_old:\n",
        "            break\n",
        "\n",
        "        sse_old = sse_new\n",
        "        iteration += 1\n",
        "\n",
        "    end_time = time.time()\n",
        "    return centroids, labels, iteration, end_time - start_time"
      ],
      "metadata": {
        "id": "hb4Gy74eD22_"
      },
      "execution_count": 39,
      "outputs": []
    },
    {
      "cell_type": "code",
      "source": [
        "centroids_euclidean, labels_euclidean, iterations_euclidean, time_euclidean = kmeans_time(data, k, euclidean_distance)\n",
        "centroids_cosine, labels_cosine, iterations_cosine, time_cosine = kmeans_time(data, k, cosine_similarity_distance)\n",
        "centroids_jaccard, labels_jaccard, iterations_jaccard, time_jaccard = kmeans_time(data, k, generalized_jaccard_similarity)\n",
        "\n",
        "# Displaying the results\n",
        "print(f\"Euclidean: Iterations are - {iterations_euclidean}, Time taken to converge - {time_euclidean} seconds\")\n",
        "print(f\"Cosine: Iterations are - {iterations_cosine}, Time taken to converge - {time_cosine} seconds\")\n",
        "print(f\"Jaccard: Iterations are - {iterations_jaccard}, Time taken to converge - {time_jaccard} seconds\")"
      ],
      "metadata": {
        "colab": {
          "base_uri": "https://localhost:8080/"
        },
        "id": "IisaAv4s8orN",
        "outputId": "d2823ee3-db13-4c70-bf41-f121469c574c"
      },
      "execution_count": 44,
      "outputs": [
        {
          "output_type": "stream",
          "name": "stdout",
          "text": [
            "Euclidean: Iterations are - 61, Time taken to converge - 19.016072750091553 seconds\n",
            "Cosine: Iterations are - 1, Time taken to converge - 0.7105855941772461 seconds\n",
            "Jaccard: Iterations are - 18, Time taken to converge - 17.669022798538208 seconds\n"
          ]
        }
      ]
    },
    {
      "cell_type": "markdown",
      "source": [
        "Q4: Compare the SSEs of Euclidean-K-means Cosine-K-means, Jarcard-K-means with respect to\n",
        "\n",
        "the following three terminating conditions: (10 points)\n",
        "\n",
        "1) When there is no change in centroid position\n",
        "\n",
        "2) When the SSE value increases in the next iteration\n",
        "\n",
        "3) When the maximum preset value (e.g., 100) of iteration is complete\n"
      ],
      "metadata": {
        "id": "P3Yh4ZsH_9aj"
      }
    },
    {
      "cell_type": "code",
      "source": [
        "def kmeans_cond(X, k, distance_function, max_iters=100):\n",
        "    n_samples, _ = X.shape\n",
        "    random_indices = np.random.choice(n_samples, size=k, replace=False)\n",
        "    centroids = X[random_indices]\n",
        "    centroids_old = np.zeros(centroids.shape)\n",
        "    labels = np.zeros(n_samples)\n",
        "    error = np.linalg.norm(centroids - centroids_old)\n",
        "    iteration = 0\n",
        "    sse_old = float('inf')\n",
        "    sse_at_termination = None\n",
        "\n",
        "    while iteration < max_iters:\n",
        "        distances = distance_function(X, centroids)\n",
        "        labels = np.argmin(distances, axis=1)\n",
        "        centroids_old = deepcopy(centroids)\n",
        "        for i in range(k):\n",
        "            centroids[i] = np.mean(X[labels == i], axis=0)\n",
        "        error = np.linalg.norm(centroids - centroids_old)\n",
        "        sse_new = calculate_sse(X, labels, centroids, distance_function)\n",
        "\n",
        "        # Stopping criteria\n",
        "        if error == 0 or sse_new > sse_old:\n",
        "            sse_at_termination = sse_new\n",
        "            break\n",
        "\n",
        "        sse_old = sse_new\n",
        "        iteration += 1\n",
        "\n",
        "        if iteration == max_iters - 1:\n",
        "            sse_at_termination = sse_new\n",
        "\n",
        "    return centroids, labels, sse_at_termination\n"
      ],
      "metadata": {
        "id": "XCwLXnGz__N3"
      },
      "execution_count": 41,
      "outputs": []
    },
    {
      "cell_type": "code",
      "source": [
        "centroids_euclidean, labels_euclidean, sse_euclidean = kmeans_cond(data, k, euclidean_distance)\n",
        "centroids_cosine, labels_cosine, sse_cosine = kmeans_cond(data, k, cosine_similarity_distance)\n",
        "centroids_jaccard, labels_jaccard, sse_jaccard = kmeans_cond(data, k, generalized_jaccard_similarity)\n",
        "\n",
        "# Displaying the SSEs\n",
        "print(f\"SSE Euclidean is: {sse_euclidean}\")\n",
        "print(f\"SSE Cosine is: {sse_cosine}\")\n",
        "print(f\"SSE Jaccard is: {sse_jaccard}\")\n"
      ],
      "metadata": {
        "colab": {
          "base_uri": "https://localhost:8080/"
        },
        "id": "YB70xcun__T0",
        "outputId": "61c8b8ff-3feb-4146-e21f-d05cf2e1d8c9"
      },
      "execution_count": 42,
      "outputs": [
        {
          "output_type": "stream",
          "name": "stdout",
          "text": [
            "SSE Euclidean is: 25321708189.0\n",
            "SSE Cosine is: 5140.65108464248\n",
            "SSE Jaccard is: 3671.1178284417797\n"
          ]
        }
      ]
    }
  ]
}